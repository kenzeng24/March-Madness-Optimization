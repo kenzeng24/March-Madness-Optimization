{
 "cells": [
  {
   "cell_type": "code",
   "execution_count": 18,
   "metadata": {},
   "outputs": [],
   "source": [
    "import march_madness\n",
    "import dq_learning\n",
    "import importlib"
   ]
  },
  {
   "cell_type": "code",
   "execution_count": 25,
   "metadata": {},
   "outputs": [
    {
     "data": {
      "text/plain": [
       "<module 'dq_learning' from '/Users/kenzeng/Desktop/College/DSCI/RL/Final-Project/March-Madness-Optimization/dq_learning.py'>"
      ]
     },
     "execution_count": 25,
     "metadata": {},
     "output_type": "execute_result"
    }
   ],
   "source": [
    "importlib.reload(march_madness)\n",
    "importlib.reload(dq_learning)"
   ]
  },
  {
   "cell_type": "code",
   "execution_count": 26,
   "metadata": {},
   "outputs": [
    {
     "name": "stdout",
     "output_type": "stream",
     "text": [
      "Model: \"sequential_7\"\n",
      "_________________________________________________________________\n",
      "Layer (type)                 Output Shape              Param #   \n",
      "=================================================================\n",
      "dense_17 (Dense)             (None, 1, 256)            17664     \n",
      "_________________________________________________________________\n",
      "activation_17 (Activation)   (None, 1, 256)            0         \n",
      "_________________________________________________________________\n",
      "dense_18 (Dense)             (None, 1, 128)            32896     \n",
      "_________________________________________________________________\n",
      "activation_18 (Activation)   (None, 1, 128)            0         \n",
      "_________________________________________________________________\n",
      "dense_19 (Dense)             (None, 1, 2)              258       \n",
      "_________________________________________________________________\n",
      "activation_19 (Activation)   (None, 1, 2)              0         \n",
      "=================================================================\n",
      "Total params: 50,818\n",
      "Trainable params: 50,818\n",
      "Non-trainable params: 0\n",
      "_________________________________________________________________\n",
      "None\n",
      "========== 0: Points reached: 1.3081256250068242e-39 - epsilon: 0.995 - Best: 1.3081256250068242e-39\n",
      "========== 25: Points reached: 2.352032284105119e-53 - epsilon: 0.8778091417340573 - Best: 5.969712355185201e-38\n",
      "========== 50: Points reached: 1.448526267186488e-45 - epsilon: 0.7744209942832988 - Best: 5.969712355185201e-38\n",
      "========== 75: Points reached: 1.7321769368828483e-53 - epsilon: 0.6832098777212641 - Best: 5.969712355185201e-38\n",
      "========== 100: Points reached: 3.123822154576098e-45 - epsilon: 0.6027415843082742 - Best: 9.352367816450788e-34\n",
      "========== 125: Points reached: 8.152809829321275e-47 - epsilon: 0.531750826943791 - Best: 9.352367816450788e-34\n",
      "========== 150: Points reached: 3.0414013235964524e-57 - epsilon: 0.46912134373457726 - Best: 9.352367816450788e-34\n",
      "========== 175: Points reached: 6.39587532461776e-45 - epsilon: 0.41386834584198684 - Best: 9.352367816450788e-34\n",
      "========== 200: Points reached: 3.330718915426401e-41 - epsilon: 0.36512303261753626 - Best: 9.352367816450788e-34\n",
      "========== 225: Points reached: 7.488014447058795e-37 - epsilon: 0.322118930542046 - Best: 6.262881062361798e-33\n",
      "========== 250: Points reached: 1.0714379133960554e-49 - epsilon: 0.28417984116121187 - Best: 6.262881062361798e-33\n",
      "========== 275: Points reached: 7.277988844133373e-43 - epsilon: 0.2507092085103961 - Best: 9.954972589479217e-32\n"
     ]
    }
   ],
   "source": [
    "model = dq_learning.train_model(EPOCHS=300)"
   ]
  },
  {
   "cell_type": "code",
   "execution_count": 27,
   "metadata": {},
   "outputs": [
    {
     "name": "stdout",
     "output_type": "stream",
     "text": [
      "Total Reward: 4.404985065712397e-36\n"
     ]
    }
   ],
   "source": [
    "history = dq_learning.exploit_model(model)"
   ]
  }
 ],
 "metadata": {
  "kernelspec": {
   "display_name": "Python 3",
   "language": "python",
   "name": "python3"
  },
  "language_info": {
   "codemirror_mode": {
    "name": "ipython",
    "version": 3
   },
   "file_extension": ".py",
   "mimetype": "text/x-python",
   "name": "python",
   "nbconvert_exporter": "python",
   "pygments_lexer": "ipython3",
   "version": "3.9.16"
  }
 },
 "nbformat": 4,
 "nbformat_minor": 2
}
